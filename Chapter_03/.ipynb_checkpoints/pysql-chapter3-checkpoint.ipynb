{
 "cells": [
  {
   "cell_type": "code",
   "execution_count": 2,
   "metadata": {},
   "outputs": [
    {
     "name": "stdout",
     "output_type": "stream",
     "text": [
      "OK\n"
     ]
    }
   ],
   "source": [
    "import sys\n",
    "import pandas as pd\n",
    "from pandas.io import sql\n",
    "from pandas.io.sql import read_sql\n",
    "from pandas.io.sql import to_sql\n",
    "\n",
    "#sqlalchemy\n",
    "import sqlalchemy\n",
    "from sqlalchemy import create_engine, Table, Column, Integer, String, MetaData, ForeignKey\n",
    "\n",
    "# for postgres\n",
    "import psycopg2\n",
    "\n",
    "import warnings\n",
    "warnings.filterwarnings(\"ignore\")\n",
    "\n",
    "print('OK')"
   ]
  },
  {
   "cell_type": "code",
   "execution_count": 3,
   "metadata": {},
   "outputs": [
    {
     "name": "stdout",
     "output_type": "stream",
     "text": [
      "OK\n"
     ]
    }
   ],
   "source": [
    "# open a new connection to pyanalysis\n",
    "engine = create_engine('postgresql://postgres@localhost:5432/pyanalysis')\n",
    "print(\"OK\")"
   ]
  },
  {
   "cell_type": "code",
   "execution_count": 4,
   "metadata": {},
   "outputs": [
    {
     "data": {
      "text/html": [
       "<div>\n",
       "<style scoped>\n",
       "    .dataframe tbody tr th:only-of-type {\n",
       "        vertical-align: middle;\n",
       "    }\n",
       "\n",
       "    .dataframe tbody tr th {\n",
       "        vertical-align: top;\n",
       "    }\n",
       "\n",
       "    .dataframe thead th {\n",
       "        text-align: right;\n",
       "    }\n",
       "</style>\n",
       "<table border=\"1\" class=\"dataframe\">\n",
       "  <thead>\n",
       "    <tr style=\"text-align: right;\">\n",
       "      <th></th>\n",
       "      <th>first_name</th>\n",
       "      <th>last_name</th>\n",
       "      <th>school</th>\n",
       "      <th>salary</th>\n",
       "      <th>hire_date</th>\n",
       "    </tr>\n",
       "  </thead>\n",
       "  <tbody>\n",
       "    <tr>\n",
       "      <th>0</th>\n",
       "      <td>Kathleen</td>\n",
       "      <td>Roush</td>\n",
       "      <td>F.D. Roosevelt HS</td>\n",
       "      <td>38500.0</td>\n",
       "      <td>2010-10-22</td>\n",
       "    </tr>\n",
       "    <tr>\n",
       "      <th>1</th>\n",
       "      <td>Janet</td>\n",
       "      <td>Smith</td>\n",
       "      <td>F.D. Roosevelt HS</td>\n",
       "      <td>36200.0</td>\n",
       "      <td>2011-10-30</td>\n",
       "    </tr>\n",
       "    <tr>\n",
       "      <th>2</th>\n",
       "      <td>Samantha</td>\n",
       "      <td>Bush</td>\n",
       "      <td>Myers Middle School</td>\n",
       "      <td>36200.0</td>\n",
       "      <td>2011-10-30</td>\n",
       "    </tr>\n",
       "  </tbody>\n",
       "</table>\n",
       "</div>"
      ],
      "text/plain": [
       "  first_name last_name               school   salary  hire_date\n",
       "0   Kathleen     Roush    F.D. Roosevelt HS  38500.0 2010-10-22\n",
       "1      Janet     Smith    F.D. Roosevelt HS  36200.0 2011-10-30\n",
       "2   Samantha      Bush  Myers Middle School  36200.0 2011-10-30"
      ]
     },
     "execution_count": 4,
     "metadata": {},
     "output_type": "execute_result"
    }
   ],
   "source": [
    "# try it yourself\n",
    "# rank teachers hired since 2010-01-01, ordered by pay\n",
    "\n",
    "sql = \"\"\"\n",
    "    SELECT first_name, last_name, school, salary, hire_date\n",
    "    FROM teachers\n",
    "    WHERE hire_date > '2010-01-01'\n",
    "    ORDER BY salary DESC\n",
    "    \"\"\"\n",
    "teachers = pd.read_sql(sqlalchemy.text(sql), engine, parse_dates=['hire_date'])\n",
    "\n",
    "teachers.head(6)\n"
   ]
  },
  {
   "cell_type": "code",
   "execution_count": null,
   "metadata": {},
   "outputs": [],
   "source": []
  },
  {
   "cell_type": "code",
   "execution_count": null,
   "metadata": {},
   "outputs": [],
   "source": []
  },
  {
   "cell_type": "code",
   "execution_count": null,
   "metadata": {},
   "outputs": [],
   "source": []
  },
  {
   "cell_type": "code",
   "execution_count": null,
   "metadata": {},
   "outputs": [],
   "source": []
  },
  {
   "cell_type": "code",
   "execution_count": null,
   "metadata": {},
   "outputs": [],
   "source": []
  }
 ],
 "metadata": {
  "kernelspec": {
   "display_name": "Python 3",
   "language": "python",
   "name": "python3"
  },
  "language_info": {
   "codemirror_mode": {
    "name": "ipython",
    "version": 3
   },
   "file_extension": ".py",
   "mimetype": "text/x-python",
   "name": "python",
   "nbconvert_exporter": "python",
   "pygments_lexer": "ipython3",
   "version": "3.6.5"
  }
 },
 "nbformat": 4,
 "nbformat_minor": 2
}
