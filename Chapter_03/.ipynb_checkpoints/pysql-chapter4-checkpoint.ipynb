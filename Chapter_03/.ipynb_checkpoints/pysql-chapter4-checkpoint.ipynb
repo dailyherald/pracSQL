{
 "cells": [
  {
   "cell_type": "code",
   "execution_count": 1,
   "metadata": {},
   "outputs": [
    {
     "name": "stdout",
     "output_type": "stream",
     "text": [
      "OK\n"
     ]
    },
    {
     "name": "stderr",
     "output_type": "stream",
     "text": [
      "/Users/tbroderick/anaconda3/lib/python3.6/site-packages/psycopg2/__init__.py:144: UserWarning: The psycopg2 wheel package will be renamed from release 2.8; in order to keep installing from binary please use \"pip install psycopg2-binary\" instead. For details see: <http://initd.org/psycopg/docs/install.html#binary-install-from-pypi>.\n",
      "  \"\"\")\n"
     ]
    }
   ],
   "source": [
    "import sys\n",
    "import pandas as pd\n",
    "from pandas.io import sql\n",
    "from pandas.io.sql import read_sql\n",
    "from pandas.io.sql import to_sql\n",
    "\n",
    "#sqlalchemy\n",
    "import sqlalchemy\n",
    "from sqlalchemy import create_engine, Table, Column, Integer, String, MetaData, ForeignKey\n",
    "\n",
    "# for postgres\n",
    "import psycopg2\n",
    "\n",
    "import warnings\n",
    "warnings.filterwarnings(\"ignore\")\n",
    "\n",
    "print('OK')"
   ]
  },
  {
   "cell_type": "code",
   "execution_count": 2,
   "metadata": {},
   "outputs": [
    {
     "name": "stdout",
     "output_type": "stream",
     "text": [
      "OK\n"
     ]
    }
   ],
   "source": [
    "# open a new connection to pyanalysis\n",
    "engine = create_engine('postgresql://postgres@localhost:5432/pyanalysis')\n",
    "print(\"OK\")"
   ]
  },
  {
   "cell_type": "code",
   "execution_count": 3,
   "metadata": {},
   "outputs": [
    {
     "name": "stdout",
     "output_type": "stream",
     "text": [
      "done\n"
     ]
    }
   ],
   "source": [
    "# First, let's create the taable\n",
    "\n",
    "engine.execute(\"CREATE TABLE char_data_types (\"\n",
    "               \"varchar_column varchar(10),\"\n",
    "               \"char_column char(10),\"\n",
    "               \"text_column text)\"\n",
    ") # no semicolon at end of commands here\n",
    "print('done')\n",
    "\n"
   ]
  },
  {
   "cell_type": "code",
   "execution_count": 8,
   "metadata": {},
   "outputs": [
    {
     "name": "stdout",
     "output_type": "stream",
     "text": [
      "varchar_column    object\n",
      "char_column       object\n",
      "text_column       object\n",
      "dtype: object\n"
     ]
    },
    {
     "data": {
      "text/html": [
       "<div>\n",
       "<style scoped>\n",
       "    .dataframe tbody tr th:only-of-type {\n",
       "        vertical-align: middle;\n",
       "    }\n",
       "\n",
       "    .dataframe tbody tr th {\n",
       "        vertical-align: top;\n",
       "    }\n",
       "\n",
       "    .dataframe thead th {\n",
       "        text-align: right;\n",
       "    }\n",
       "</style>\n",
       "<table border=\"1\" class=\"dataframe\">\n",
       "  <thead>\n",
       "    <tr style=\"text-align: right;\">\n",
       "      <th></th>\n",
       "      <th>varchar_column</th>\n",
       "      <th>char_column</th>\n",
       "      <th>text_column</th>\n",
       "    </tr>\n",
       "  </thead>\n",
       "  <tbody>\n",
       "    <tr>\n",
       "      <th>0</th>\n",
       "      <td>abc</td>\n",
       "      <td>abc</td>\n",
       "      <td>abc</td>\n",
       "    </tr>\n",
       "    <tr>\n",
       "      <th>1</th>\n",
       "      <td>defghi</td>\n",
       "      <td>defghi</td>\n",
       "      <td>defghi</td>\n",
       "    </tr>\n",
       "  </tbody>\n",
       "</table>\n",
       "</div>"
      ],
      "text/plain": [
       "  varchar_column char_column text_column\n",
       "0            abc  abc                abc\n",
       "1         defghi  defghi          defghi"
      ]
     },
     "execution_count": 8,
     "metadata": {},
     "output_type": "execute_result"
    }
   ],
   "source": [
    "# load the data up\n",
    "# note that VALUES needs to be on same line\n",
    "# That's different from the book example\n",
    "engine.execute(\"INSERT INTO char_data_types VALUES ('abc', 'abc', 'abc'),\"\n",
    "               \"('defghi', 'defghi', 'defghi')\")\n",
    "\n",
    "sql = \"SELECT * FROM char_data_types\"\n",
    "\n",
    "df = pd.read_sql(sql, engine)\n",
    "\n",
    "print(df.dtypes)\n",
    "df.head(6)\n"
   ]
  },
  {
   "cell_type": "code",
   "execution_count": 9,
   "metadata": {},
   "outputs": [
    {
     "name": "stdout",
     "output_type": "stream",
     "text": [
      "done\n"
     ]
    }
   ],
   "source": [
    "# now let's try and write a file directly to the folder\n",
    "engine.execute(\"COPY char_data_types TO '/Users/tbroderick/anaconda3/envs/pracSQL/Chapter_03/typetestpy.txt'\"\n",
    "               \"WITH (FORMAT CSV, HEADER, DELIMITER '|')\"\n",
    "              )\n",
    "print(\"done\")"
   ]
  },
  {
   "cell_type": "code",
   "execution_count": 11,
   "metadata": {},
   "outputs": [
    {
     "name": "stdout",
     "output_type": "stream",
     "text": [
      "numeric_column    float64\n",
      "real_column       float64\n",
      "double_column     float64\n",
      "dtype: object\n"
     ]
    },
    {
     "data": {
      "text/html": [
       "<div>\n",
       "<style scoped>\n",
       "    .dataframe tbody tr th:only-of-type {\n",
       "        vertical-align: middle;\n",
       "    }\n",
       "\n",
       "    .dataframe tbody tr th {\n",
       "        vertical-align: top;\n",
       "    }\n",
       "\n",
       "    .dataframe thead th {\n",
       "        text-align: right;\n",
       "    }\n",
       "</style>\n",
       "<table border=\"1\" class=\"dataframe\">\n",
       "  <thead>\n",
       "    <tr style=\"text-align: right;\">\n",
       "      <th></th>\n",
       "      <th>numeric_column</th>\n",
       "      <th>real_column</th>\n",
       "      <th>double_column</th>\n",
       "    </tr>\n",
       "  </thead>\n",
       "  <tbody>\n",
       "    <tr>\n",
       "      <th>0</th>\n",
       "      <td>0.70000</td>\n",
       "      <td>0.70000</td>\n",
       "      <td>0.700000</td>\n",
       "    </tr>\n",
       "    <tr>\n",
       "      <th>1</th>\n",
       "      <td>2.13579</td>\n",
       "      <td>2.13579</td>\n",
       "      <td>2.135790</td>\n",
       "    </tr>\n",
       "    <tr>\n",
       "      <th>2</th>\n",
       "      <td>2.13580</td>\n",
       "      <td>2.13580</td>\n",
       "      <td>2.135799</td>\n",
       "    </tr>\n",
       "  </tbody>\n",
       "</table>\n",
       "</div>"
      ],
      "text/plain": [
       "   numeric_column  real_column  double_column\n",
       "0         0.70000      0.70000       0.700000\n",
       "1         2.13579      2.13579       2.135790\n",
       "2         2.13580      2.13580       2.135799"
      ]
     },
     "execution_count": 11,
     "metadata": {},
     "output_type": "execute_result"
    }
   ],
   "source": [
    "# now let's create the number data set, but let's try to do this all at once\n",
    "engine.execute(\"CREATE TABLE number_data_types (\"\n",
    "    \"numeric_column numeric(20,5),\"\n",
    "    \"real_column real,\"\n",
    "    \"double_column double precision)\")\n",
    "\n",
    "engine.execute(\"INSERT INTO number_data_types VALUES (.7, .7, .7),\"\n",
    "    \"(2.13579, 2.13579, 2.13579),\"\n",
    "    \"(2.1357987654, 2.1357987654, 2.1357987654)\")\n",
    "\n",
    "sql = \"SELECT * FROM number_data_types\"\n",
    "\n",
    "dfnum = pd.read_sql(sql, engine)\n",
    "\n",
    "print(dfnum.dtypes)\n",
    "dfnum.head(6)\n",
    "\n",
    "# pandas casts all these data types as float 64\n",
    "# This talks about db types\n",
    "# http://pbpython.com/pandas_dtypes.html"
   ]
  },
  {
   "cell_type": "code",
   "execution_count": 13,
   "metadata": {},
   "outputs": [
    {
     "name": "stdout",
     "output_type": "stream",
     "text": [
      "Fixed    float64\n",
      "Float    float64\n",
      "dtype: object\n"
     ]
    },
    {
     "data": {
      "text/html": [
       "<div>\n",
       "<style scoped>\n",
       "    .dataframe tbody tr th:only-of-type {\n",
       "        vertical-align: middle;\n",
       "    }\n",
       "\n",
       "    .dataframe tbody tr th {\n",
       "        vertical-align: top;\n",
       "    }\n",
       "\n",
       "    .dataframe thead th {\n",
       "        text-align: right;\n",
       "    }\n",
       "</style>\n",
       "<table border=\"1\" class=\"dataframe\">\n",
       "  <thead>\n",
       "    <tr style=\"text-align: right;\">\n",
       "      <th></th>\n",
       "      <th>Fixed</th>\n",
       "      <th>Float</th>\n",
       "    </tr>\n",
       "  </thead>\n",
       "  <tbody>\n",
       "    <tr>\n",
       "      <th>0</th>\n",
       "      <td>7000000.0</td>\n",
       "      <td>7.000000e+06</td>\n",
       "    </tr>\n",
       "  </tbody>\n",
       "</table>\n",
       "</div>"
      ],
      "text/plain": [
       "       Fixed         Float\n",
       "0  7000000.0  7.000000e+06"
      ]
     },
     "execution_count": 13,
     "metadata": {},
     "output_type": "execute_result"
    }
   ],
   "source": [
    "# let's see how the math test works\n",
    "sql = \"\"\"\n",
    "    SELECT numeric_column * 10000000 AS \"Fixed\", \n",
    "    real_column * 10000000 AS \"Float\"\n",
    "    FROM number_data_types\n",
    "    WHERE numeric_column = .7\n",
    "    \"\"\"\n",
    "\n",
    "dftest = pd.read_sql(sql, engine)\n",
    "\n",
    "print(dftest.dtypes)\n",
    "dftest.head(6)\n",
    "# interesting. Pandas reports all as float64, but real data is coming in differently"
   ]
  },
  {
   "cell_type": "code",
   "execution_count": 15,
   "metadata": {},
   "outputs": [
    {
     "name": "stdout",
     "output_type": "stream",
     "text": [
      "timestamp_column             object\n",
      "interval_column     timedelta64[ns]\n",
      "dtype: object\n"
     ]
    },
    {
     "data": {
      "text/html": [
       "<div>\n",
       "<style scoped>\n",
       "    .dataframe tbody tr th:only-of-type {\n",
       "        vertical-align: middle;\n",
       "    }\n",
       "\n",
       "    .dataframe tbody tr th {\n",
       "        vertical-align: top;\n",
       "    }\n",
       "\n",
       "    .dataframe thead th {\n",
       "        text-align: right;\n",
       "    }\n",
       "</style>\n",
       "<table border=\"1\" class=\"dataframe\">\n",
       "  <thead>\n",
       "    <tr style=\"text-align: right;\">\n",
       "      <th></th>\n",
       "      <th>timestamp_column</th>\n",
       "      <th>interval_column</th>\n",
       "    </tr>\n",
       "  </thead>\n",
       "  <tbody>\n",
       "    <tr>\n",
       "      <th>0</th>\n",
       "      <td>2018-12-31 00:00:00-06:00</td>\n",
       "      <td>2 days</td>\n",
       "    </tr>\n",
       "    <tr>\n",
       "      <th>1</th>\n",
       "      <td>2018-12-31 03:00:00-06:00</td>\n",
       "      <td>30 days</td>\n",
       "    </tr>\n",
       "    <tr>\n",
       "      <th>2</th>\n",
       "      <td>2018-12-30 08:00:00-06:00</td>\n",
       "      <td>36500 days</td>\n",
       "    </tr>\n",
       "    <tr>\n",
       "      <th>3</th>\n",
       "      <td>2018-10-02 20:05:35.220381-05:00</td>\n",
       "      <td>7 days</td>\n",
       "    </tr>\n",
       "  </tbody>\n",
       "</table>\n",
       "</div>"
      ],
      "text/plain": [
       "                   timestamp_column interval_column\n",
       "0         2018-12-31 00:00:00-06:00          2 days\n",
       "1         2018-12-31 03:00:00-06:00         30 days\n",
       "2         2018-12-30 08:00:00-06:00      36500 days\n",
       "3  2018-10-02 20:05:35.220381-05:00          7 days"
      ]
     },
     "execution_count": 15,
     "metadata": {},
     "output_type": "execute_result"
    }
   ],
   "source": [
    "# now let's create the number data set, but let's try to do this all at once\n",
    "engine.execute(\"\"\"\n",
    "    CREATE TABLE date_time_types (\n",
    "    timestamp_column timestamp with time zone,\n",
    "    interval_column interval)\n",
    "    \"\"\"\n",
    ")\n",
    "\n",
    "engine.execute(\"\"\"\n",
    "    INSERT INTO date_time_types VALUES\n",
    "    ('2018-12-31 01:00 EST','2 days'),\n",
    "    ('2018-12-31 01:00 -8','1 month'),\n",
    "    ('2018-12-31 01:00 Australia/Melbourne','1 century'),\n",
    "    (now(),'1 week')\n",
    "    \"\"\"\n",
    ")\n",
    "\n",
    "sql = \"SELECT * FROM date_time_types\"\n",
    "\n",
    "dftime = pd.read_sql(sql, engine)\n",
    "\n",
    "print(dftime.dtypes)\n",
    "dftime.head(6)\n",
    "\n",
    "# VERY interesting. Pandas reads the time columns accurately \n",
    "# without having to cast them as such"
   ]
  },
  {
   "cell_type": "code",
   "execution_count": 16,
   "metadata": {},
   "outputs": [
    {
     "name": "stdout",
     "output_type": "stream",
     "text": [
      "timestamp_column             object\n",
      "interval_column     timedelta64[ns]\n",
      "new_date                     object\n",
      "dtype: object\n"
     ]
    },
    {
     "data": {
      "text/html": [
       "<div>\n",
       "<style scoped>\n",
       "    .dataframe tbody tr th:only-of-type {\n",
       "        vertical-align: middle;\n",
       "    }\n",
       "\n",
       "    .dataframe tbody tr th {\n",
       "        vertical-align: top;\n",
       "    }\n",
       "\n",
       "    .dataframe thead th {\n",
       "        text-align: right;\n",
       "    }\n",
       "</style>\n",
       "<table border=\"1\" class=\"dataframe\">\n",
       "  <thead>\n",
       "    <tr style=\"text-align: right;\">\n",
       "      <th></th>\n",
       "      <th>timestamp_column</th>\n",
       "      <th>interval_column</th>\n",
       "      <th>new_date</th>\n",
       "    </tr>\n",
       "  </thead>\n",
       "  <tbody>\n",
       "    <tr>\n",
       "      <th>0</th>\n",
       "      <td>2018-12-31 00:00:00-06:00</td>\n",
       "      <td>2 days</td>\n",
       "      <td>2018-12-29 00:00:00-06:00</td>\n",
       "    </tr>\n",
       "    <tr>\n",
       "      <th>1</th>\n",
       "      <td>2018-12-31 03:00:00-06:00</td>\n",
       "      <td>30 days</td>\n",
       "      <td>2018-11-30 03:00:00-06:00</td>\n",
       "    </tr>\n",
       "    <tr>\n",
       "      <th>2</th>\n",
       "      <td>2018-12-30 08:00:00-06:00</td>\n",
       "      <td>36500 days</td>\n",
       "      <td>1918-12-30 08:00:00-06:00</td>\n",
       "    </tr>\n",
       "    <tr>\n",
       "      <th>3</th>\n",
       "      <td>2018-10-02 20:05:35.220381-05:00</td>\n",
       "      <td>7 days</td>\n",
       "      <td>2018-09-25 20:05:35.220381-05:00</td>\n",
       "    </tr>\n",
       "  </tbody>\n",
       "</table>\n",
       "</div>"
      ],
      "text/plain": [
       "                   timestamp_column interval_column  \\\n",
       "0         2018-12-31 00:00:00-06:00          2 days   \n",
       "1         2018-12-31 03:00:00-06:00         30 days   \n",
       "2         2018-12-30 08:00:00-06:00      36500 days   \n",
       "3  2018-10-02 20:05:35.220381-05:00          7 days   \n",
       "\n",
       "                           new_date  \n",
       "0         2018-12-29 00:00:00-06:00  \n",
       "1         2018-11-30 03:00:00-06:00  \n",
       "2         1918-12-30 08:00:00-06:00  \n",
       "3  2018-09-25 20:05:35.220381-05:00  "
      ]
     },
     "execution_count": 16,
     "metadata": {},
     "output_type": "execute_result"
    }
   ],
   "source": [
    "# finally, let's see if we can do the math with time\n",
    "sql = \"\"\"\n",
    "    SELECT\n",
    "    timestamp_column,\n",
    "    interval_column,\n",
    "    timestamp_column - interval_column AS new_date\n",
    "    FROM date_time_types;\n",
    "    \"\"\"\n",
    "\n",
    "dftimetest = pd.read_sql(sql, engine)\n",
    "\n",
    "print(dftimetest.dtypes)\n",
    "dftimetest.head(6)\n",
    "# success"
   ]
  },
  {
   "cell_type": "code",
   "execution_count": 18,
   "metadata": {},
   "outputs": [
    {
     "name": "stdout",
     "output_type": "stream",
     "text": [
      "timestamp_column    object\n",
      "timestamp_column    object\n",
      "dtype: object\n",
      "                   timestamp_column timestamp_column\n",
      "0         2018-12-31 00:00:00-06:00       2018-12-31\n",
      "1         2018-12-31 03:00:00-06:00       2018-12-31\n",
      "2         2018-12-30 08:00:00-06:00       2018-12-30\n",
      "3  2018-10-02 20:05:35.220381-05:00       2018-10-02\n",
      "----------\n",
      "numeric_column    float64\n",
      "numeric_column      int64\n",
      "numeric_column     object\n",
      "dtype: object\n",
      "  numeric_column numeric_column numeric_column\n",
      "0        0.70000              1         0.7000\n",
      "1        2.13579              2         2.1357\n",
      "2        2.13580              2         2.1358\n"
     ]
    }
   ],
   "source": [
    "# let's try the cast requests that work\n",
    "sql = \"\"\"\n",
    "    SELECT timestamp_column, CAST(timestamp_column AS varchar(10))\n",
    "    FROM date_time_types\n",
    "    \"\"\"\n",
    "dfcast1 = pd.read_sql(sql, engine)\n",
    "\n",
    "print(dfcast1.dtypes)\n",
    "print( dfcast1.head(6) )\n",
    "\n",
    "print(\"----------\")\n",
    "sql2 = \"\"\"\n",
    "    SELECT numeric_column,\n",
    "    CAST(numeric_column AS integer),\n",
    "    CAST(numeric_column AS varchar(6))\n",
    "    FROM number_data_types;\n",
    "    \"\"\"\n",
    "dfcast2 = pd.read_sql(sql2, engine)\n",
    "\n",
    "print(dfcast2.dtypes)\n",
    "print( dfcast2.head(6) )\n",
    "\n"
   ]
  },
  {
   "cell_type": "code",
   "execution_count": null,
   "metadata": {},
   "outputs": [],
   "source": []
  },
  {
   "cell_type": "code",
   "execution_count": null,
   "metadata": {},
   "outputs": [],
   "source": []
  },
  {
   "cell_type": "code",
   "execution_count": null,
   "metadata": {},
   "outputs": [],
   "source": []
  },
  {
   "cell_type": "code",
   "execution_count": null,
   "metadata": {},
   "outputs": [],
   "source": []
  },
  {
   "cell_type": "code",
   "execution_count": null,
   "metadata": {},
   "outputs": [],
   "source": []
  }
 ],
 "metadata": {
  "kernelspec": {
   "display_name": "Python 3",
   "language": "python",
   "name": "python3"
  },
  "language_info": {
   "codemirror_mode": {
    "name": "ipython",
    "version": 3
   },
   "file_extension": ".py",
   "mimetype": "text/x-python",
   "name": "python",
   "nbconvert_exporter": "python",
   "pygments_lexer": "ipython3",
   "version": "3.6.5"
  }
 },
 "nbformat": 4,
 "nbformat_minor": 2
}
