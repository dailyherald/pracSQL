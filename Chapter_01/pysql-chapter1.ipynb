{
 "cells": [
  {
   "cell_type": "code",
   "execution_count": 2,
   "metadata": {},
   "outputs": [
    {
     "name": "stdout",
     "output_type": "stream",
     "text": [
      "OK\n"
     ]
    }
   ],
   "source": [
    "import sys\n",
    "import pandas as pd\n",
    "from pandas.io import sql\n",
    "from pandas.io.sql import read_sql\n",
    "from pandas.io.sql import to_sql\n",
    "\n",
    "#sqlalchemy\n",
    "from sqlalchemy import create_engine, Table, Column, Integer, String, MetaData, ForeignKey\n",
    "\n",
    "# for postgres\n",
    "import psycopg2\n",
    "\n",
    "import warnings\n",
    "warnings.filterwarnings(\"ignore\")\n",
    "\n",
    "print('OK')"
   ]
  },
  {
   "cell_type": "code",
   "execution_count": 18,
   "metadata": {},
   "outputs": [
    {
     "name": "stdout",
     "output_type": "stream",
     "text": [
      "ready\n"
     ]
    }
   ],
   "source": [
    "#creates connection that allows creating a DB\n",
    "\n",
    "engine = psycopg2.connect(dbname='postgres',\n",
    "      user='timbroderick', host='localhost')\n",
    "\n",
    "from psycopg2.extensions import ISOLATION_LEVEL_AUTOCOMMIT\n",
    "\n",
    "engine.set_isolation_level(ISOLATION_LEVEL_AUTOCOMMIT)\n",
    "\n",
    "cur = engine.cursor()\n",
    "\n",
    "# run sql command to create new db\n",
    "\n",
    "cur.execute(\"CREATE DATABASE %s ;\" % 'pyanalysis')\n",
    "\n",
    "cur.close()\n",
    "engine.close()\n",
    "\n",
    "# connection closed\n",
    "\n",
    "print('done')"
   ]
  },
  {
   "cell_type": "code",
   "execution_count": 3,
   "metadata": {},
   "outputs": [
    {
     "name": "stdout",
     "output_type": "stream",
     "text": [
      "OK\n"
     ]
    }
   ],
   "source": [
    "# open a new connection to pyanalysis\n",
    "engine = create_engine('postgresql://postgres@localhost:5432/pyanalysis')\n",
    "print(\"OK\")"
   ]
  },
  {
   "cell_type": "code",
   "execution_count": 4,
   "metadata": {},
   "outputs": [
    {
     "name": "stdout",
     "output_type": "stream",
     "text": [
      "done\n"
     ]
    }
   ],
   "source": [
    "# drop table if it exists\n",
    "engine.execute(\"DROP TABLE IF EXISTS teachers\")\n",
    "\n",
    "# add new table\n",
    "engine.execute(\"CREATE TABLE teachers (\"\n",
    "            \"id bigserial,\"\n",
    "            \"first_name varchar(25),\"\n",
    "            \"last_name varchar(50),\"\n",
    "            \"school varchar(50),\"\n",
    "            \"hire_date date,\"\n",
    "            \"salary numeric\"\n",
    "            \")\" ) # no semicolon at end of commands here\n",
    "print('done')"
   ]
  },
  {
   "cell_type": "code",
   "execution_count": 6,
   "metadata": {},
   "outputs": [
    {
     "data": {
      "text/html": [
       "<div>\n",
       "<style scoped>\n",
       "    .dataframe tbody tr th:only-of-type {\n",
       "        vertical-align: middle;\n",
       "    }\n",
       "\n",
       "    .dataframe tbody tr th {\n",
       "        vertical-align: top;\n",
       "    }\n",
       "\n",
       "    .dataframe thead th {\n",
       "        text-align: right;\n",
       "    }\n",
       "</style>\n",
       "<table border=\"1\" class=\"dataframe\">\n",
       "  <thead>\n",
       "    <tr style=\"text-align: right;\">\n",
       "      <th></th>\n",
       "      <th>table_name</th>\n",
       "    </tr>\n",
       "  </thead>\n",
       "  <tbody>\n",
       "    <tr>\n",
       "      <th>0</th>\n",
       "      <td>teachers</td>\n",
       "    </tr>\n",
       "  </tbody>\n",
       "</table>\n",
       "</div>"
      ],
      "text/plain": [
       "  table_name\n",
       "0   teachers"
      ]
     },
     "execution_count": 6,
     "metadata": {},
     "output_type": "execute_result"
    }
   ],
   "source": [
    "# select only the public tables, or tables I created, from pyanalysis\n",
    "sql = \"SELECT table_name FROM information_schema.tables WHERE table_schema='public'\"\n",
    "names = pd.read_sql(sql, engine)\n",
    "names.head(30)"
   ]
  },
  {
   "cell_type": "code",
   "execution_count": 9,
   "metadata": {},
   "outputs": [
    {
     "data": {
      "text/html": [
       "<div>\n",
       "<style scoped>\n",
       "    .dataframe tbody tr th:only-of-type {\n",
       "        vertical-align: middle;\n",
       "    }\n",
       "\n",
       "    .dataframe tbody tr th {\n",
       "        vertical-align: top;\n",
       "    }\n",
       "\n",
       "    .dataframe thead th {\n",
       "        text-align: right;\n",
       "    }\n",
       "</style>\n",
       "<table border=\"1\" class=\"dataframe\">\n",
       "  <thead>\n",
       "    <tr style=\"text-align: right;\">\n",
       "      <th></th>\n",
       "      <th>id</th>\n",
       "      <th>first_name</th>\n",
       "      <th>last_name</th>\n",
       "      <th>school</th>\n",
       "      <th>hire_date</th>\n",
       "      <th>salary</th>\n",
       "    </tr>\n",
       "  </thead>\n",
       "  <tbody>\n",
       "    <tr>\n",
       "      <th>0</th>\n",
       "      <td>1</td>\n",
       "      <td>Janet</td>\n",
       "      <td>Smith</td>\n",
       "      <td>F.D. Roosevelt HS</td>\n",
       "      <td>2011-10-30</td>\n",
       "      <td>36200.0</td>\n",
       "    </tr>\n",
       "    <tr>\n",
       "      <th>1</th>\n",
       "      <td>2</td>\n",
       "      <td>Lee</td>\n",
       "      <td>Reynolds</td>\n",
       "      <td>F.D. Roosevelt HS</td>\n",
       "      <td>1993-05-22</td>\n",
       "      <td>65000.0</td>\n",
       "    </tr>\n",
       "    <tr>\n",
       "      <th>2</th>\n",
       "      <td>3</td>\n",
       "      <td>Samuel</td>\n",
       "      <td>Cole</td>\n",
       "      <td>Myers Middle School</td>\n",
       "      <td>2005-08-01</td>\n",
       "      <td>43500.0</td>\n",
       "    </tr>\n",
       "    <tr>\n",
       "      <th>3</th>\n",
       "      <td>4</td>\n",
       "      <td>Samantha</td>\n",
       "      <td>Bush</td>\n",
       "      <td>Myers Middle School</td>\n",
       "      <td>2011-10-30</td>\n",
       "      <td>36200.0</td>\n",
       "    </tr>\n",
       "    <tr>\n",
       "      <th>4</th>\n",
       "      <td>5</td>\n",
       "      <td>Betty</td>\n",
       "      <td>Diaz</td>\n",
       "      <td>Myers Middle School</td>\n",
       "      <td>2005-08-30</td>\n",
       "      <td>43500.0</td>\n",
       "    </tr>\n",
       "  </tbody>\n",
       "</table>\n",
       "</div>"
      ],
      "text/plain": [
       "   id first_name last_name               school   hire_date   salary\n",
       "0   1      Janet     Smith    F.D. Roosevelt HS  2011-10-30  36200.0\n",
       "1   2        Lee  Reynolds    F.D. Roosevelt HS  1993-05-22  65000.0\n",
       "2   3     Samuel      Cole  Myers Middle School  2005-08-01  43500.0\n",
       "3   4   Samantha      Bush  Myers Middle School  2011-10-30  36200.0\n",
       "4   5      Betty      Diaz  Myers Middle School  2005-08-30  43500.0"
      ]
     },
     "execution_count": 9,
     "metadata": {},
     "output_type": "execute_result"
    }
   ],
   "source": [
    "# now let's add data to the table\n",
    "# this series of commands needs to be run in sequence\n",
    "engine.execute(\"INSERT INTO teachers (first_name, last_name, school, hire_date, salary)\"\n",
    "               \"VALUES ('Janet', 'Smith', 'F.D. Roosevelt HS', '2011-10-30', 36200),\"\n",
    "               \"('Lee', 'Reynolds', 'F.D. Roosevelt HS', '1993-05-22', 65000),\"\n",
    "               \"('Samuel', 'Cole', 'Myers Middle School', '2005-08-01', 43500),\"\n",
    "               \"('Samantha', 'Bush', 'Myers Middle School', '2011-10-30', 36200),\"\n",
    "               \"('Betty', 'Diaz', 'Myers Middle School', '2005-08-30', 43500),\"\n",
    "               \"('Kathleen', 'Roush', 'F.D. Roosevelt HS', '2010-10-22', 38500)\" )\n",
    "\n",
    "# Tests to see if it's there\n",
    "sql = \"SELECT * FROM teachers\"\n",
    "teachers = pd.read_sql(sql, engine)\n",
    "teachers.head(5)"
   ]
  },
  {
   "cell_type": "code",
   "execution_count": 11,
   "metadata": {},
   "outputs": [
    {
     "name": "stdout",
     "output_type": "stream",
     "text": [
      "id                     int64\n",
      "first_name            object\n",
      "last_name             object\n",
      "school                object\n",
      "hire_date     datetime64[ns]\n",
      "salary               float64\n",
      "dtype: object\n"
     ]
    },
    {
     "data": {
      "text/html": [
       "<div>\n",
       "<style scoped>\n",
       "    .dataframe tbody tr th:only-of-type {\n",
       "        vertical-align: middle;\n",
       "    }\n",
       "\n",
       "    .dataframe tbody tr th {\n",
       "        vertical-align: top;\n",
       "    }\n",
       "\n",
       "    .dataframe thead th {\n",
       "        text-align: right;\n",
       "    }\n",
       "</style>\n",
       "<table border=\"1\" class=\"dataframe\">\n",
       "  <thead>\n",
       "    <tr style=\"text-align: right;\">\n",
       "      <th></th>\n",
       "      <th>id</th>\n",
       "      <th>first_name</th>\n",
       "      <th>last_name</th>\n",
       "      <th>school</th>\n",
       "      <th>hire_date</th>\n",
       "      <th>salary</th>\n",
       "    </tr>\n",
       "  </thead>\n",
       "  <tbody>\n",
       "    <tr>\n",
       "      <th>0</th>\n",
       "      <td>1</td>\n",
       "      <td>Janet</td>\n",
       "      <td>Smith</td>\n",
       "      <td>F.D. Roosevelt HS</td>\n",
       "      <td>2011-10-30</td>\n",
       "      <td>36200.0</td>\n",
       "    </tr>\n",
       "    <tr>\n",
       "      <th>1</th>\n",
       "      <td>2</td>\n",
       "      <td>Lee</td>\n",
       "      <td>Reynolds</td>\n",
       "      <td>F.D. Roosevelt HS</td>\n",
       "      <td>1993-05-22</td>\n",
       "      <td>65000.0</td>\n",
       "    </tr>\n",
       "    <tr>\n",
       "      <th>2</th>\n",
       "      <td>3</td>\n",
       "      <td>Samuel</td>\n",
       "      <td>Cole</td>\n",
       "      <td>Myers Middle School</td>\n",
       "      <td>2005-08-01</td>\n",
       "      <td>43500.0</td>\n",
       "    </tr>\n",
       "    <tr>\n",
       "      <th>3</th>\n",
       "      <td>4</td>\n",
       "      <td>Samantha</td>\n",
       "      <td>Bush</td>\n",
       "      <td>Myers Middle School</td>\n",
       "      <td>2011-10-30</td>\n",
       "      <td>36200.0</td>\n",
       "    </tr>\n",
       "    <tr>\n",
       "      <th>4</th>\n",
       "      <td>5</td>\n",
       "      <td>Betty</td>\n",
       "      <td>Diaz</td>\n",
       "      <td>Myers Middle School</td>\n",
       "      <td>2005-08-30</td>\n",
       "      <td>43500.0</td>\n",
       "    </tr>\n",
       "  </tbody>\n",
       "</table>\n",
       "</div>"
      ],
      "text/plain": [
       "   id first_name last_name               school  hire_date   salary\n",
       "0   1      Janet     Smith    F.D. Roosevelt HS 2011-10-30  36200.0\n",
       "1   2        Lee  Reynolds    F.D. Roosevelt HS 1993-05-22  65000.0\n",
       "2   3     Samuel      Cole  Myers Middle School 2005-08-01  43500.0\n",
       "3   4   Samantha      Bush  Myers Middle School 2011-10-30  36200.0\n",
       "4   5      Betty      Diaz  Myers Middle School 2005-08-30  43500.0"
      ]
     },
     "execution_count": 11,
     "metadata": {},
     "output_type": "execute_result"
    }
   ],
   "source": [
    "# read with dates parsed\n",
    "\n",
    "sql = \"SELECT * FROM teachers\"\n",
    "teachers = pd.read_sql(sql, engine, parse_dates=['hire_date'])\n",
    "\n",
    "print(teachers.dtypes)\n",
    "\n",
    "teachers.head(5)\n"
   ]
  },
  {
   "cell_type": "code",
   "execution_count": null,
   "metadata": {},
   "outputs": [],
   "source": [
    "# end chapter 1"
   ]
  }
 ],
 "metadata": {
  "kernelspec": {
   "display_name": "Python 3",
   "language": "python",
   "name": "python3"
  },
  "language_info": {
   "codemirror_mode": {
    "name": "ipython",
    "version": 3
   },
   "file_extension": ".py",
   "mimetype": "text/x-python",
   "name": "python",
   "nbconvert_exporter": "python",
   "pygments_lexer": "ipython3",
   "version": "3.6.5"
  }
 },
 "nbformat": 4,
 "nbformat_minor": 2
}
